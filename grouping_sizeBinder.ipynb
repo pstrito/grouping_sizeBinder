{
 "cells": [
  {
   "cell_type": "code",
   "execution_count": null,
   "id": "3ce8d614",
   "metadata": {},
   "outputs": [],
   "source": [
    "import grouping_sizePkg.grouping_sizePkg\n",
    "mf = grouping_sizePkg.grouping_sizePkg.mf_movement()\n",
    "\n",
    "mf.Disclaimer()\n",
    "df = mf.yahoo_api()\n",
    "df = mf.differences(df)\n",
    "df, df_summary_table = mf.section_defin_inflection_cmf(df) \n",
    "mf.three_profit_summary_plot()\n",
    "mf.Legend_description()\n",
    "\n",
    "del(df)\n",
    "del(df_summary_table)"
   ]
  },
  {
   "cell_type": "code",
   "execution_count": null,
   "id": "bb5dad6c",
   "metadata": {},
   "outputs": [],
   "source": []
  }
 ],
 "metadata": {
  "kernelspec": {
   "display_name": "Python 3 (ipykernel)",
   "language": "python",
   "name": "python3"
  },
  "language_info": {
   "codemirror_mode": {
    "name": "ipython",
    "version": 3
   },
   "file_extension": ".py",
   "mimetype": "text/x-python",
   "name": "python",
   "nbconvert_exporter": "python",
   "pygments_lexer": "ipython3",
   "version": "3.9.12"
  }
 },
 "nbformat": 4,
 "nbformat_minor": 5
}
